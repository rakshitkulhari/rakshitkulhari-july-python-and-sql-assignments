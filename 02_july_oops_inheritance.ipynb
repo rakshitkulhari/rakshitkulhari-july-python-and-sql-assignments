{
 "cells": [
  {
   "cell_type": "markdown",
   "id": "12140d12-6fb4-44b3-9f5c-3f2c6a4bf300",
   "metadata": {},
   "source": [
    "1. What is Inheritance in OOP and Why It is Used?\n",
    "\n",
    "Inheritance is a fundamental OOP concept that allows one class (the derived or child class) to inherit attributes and methods from another class (the base or parent class). It promotes code reuse, reduces redundancy, and enhances maintainability by enabling a hierarchical class structure. This way, common functionality can be defined in a base class, while specific behavior can be implemented in derived classes."
   ]
  },
  {
   "cell_type": "markdown",
   "id": "1d85064f-ab63-408c-b13a-ef02c4c4bc38",
   "metadata": {},
   "source": [
    "2. Discuss the concept of single inheritance and multiple inheritance, highlighting their differences and advantages.\n",
    "\n",
    " Single Inheritance vs. Multiple Inheritance\n",
    " \n",
    "Single Inheritance: Involves a derived class inheriting from one base class. This simplifies the class hierarchy and reduces complexity.\n",
    "Advantages: Easier to understand, less ambiguity, and simpler code maintenance.\n",
    "\n",
    "Multiple Inheritance: Involves a derived class inheriting from more than one base class.\n",
    "Advantages: Greater flexibility and the ability to combine functionalities from multiple sources.\n",
    "\n",
    "Differences:\n",
    "Single inheritance is straightforward and avoids potential issues with method resolution. Multiple inheritance can introduce complexity, especially if two base classes define a method with the same name (known as the Diamond Problem)."
   ]
  },
  {
   "cell_type": "markdown",
   "id": "ad26c8d7-a2aa-47ac-95cd-6952787615b4",
   "metadata": {},
   "source": [
    "3. Explain the terms \"base class\" and \"derived class\" in the context of inheritance.\n",
    "\n",
    "   Base Class and Derived Class\n",
    "\n",
    "Base Class: The class from which attributes and methods are inherited. It provides a foundation for other classes.\n",
    "                                                                                               \n",
    "Derived Class: The class that inherits from the base class. It can extend or modify the behavior of the base class."
   ]
  },
  {
   "cell_type": "markdown",
   "id": "4fe20bb0-541a-4f51-b890-dbc8090a99f3",
   "metadata": {},
   "source": [
    "4. What is the significance of the \"protected\" access modifier in inheritance? How does it differ from \"private\" and \"public\" modifiers?\n",
    "\n",
    "   Significance of the \"Protected\" Access Modifier\n",
    "   \n",
    "Protected Modifier: Allows access to class attributes and methods from within the class itself and by subclasses. It provides a level of encapsulation that protects sensitive data while still allowing subclasses to utilize it.\n",
    "\n",
    "Differences:\n",
    "Private: Only accessible within the class itself. Not accessible in derived classes.\n",
    "Public: Accessible from anywhere, both inside and outside the class."
   ]
  },
  {
   "cell_type": "markdown",
   "id": "ca490909-dbce-425d-8262-50bf90bd86b9",
   "metadata": {},
   "source": [
    "5. What is the purpose of the \"super\" keyword in inheritance? Provide an example.\n",
    "\n",
    " Purpose of the \"super\" Keyword\n",
    "The super keyword allows you to call methods from the parent class in a derived class. It’s commonly used to invoke the constructor of the base class.\n",
    "\n",
    "Example:"
   ]
  },
  {
   "cell_type": "code",
   "execution_count": null,
   "id": "38095515-45a8-446e-af0e-de158a6f604d",
   "metadata": {},
   "outputs": [],
   "source": [
    "class Parent:\n",
    "    def __init__(self):\n",
    "        print(\"Parent constructor called\")\n",
    "\n",
    "class Child(Parent):\n",
    "    def __init__(self):\n",
    "        super().__init__()  # Calls Parent's constructor\n",
    "        print(\"Child constructor called\")\n",
    "\n",
    "child_instance = Child()"
   ]
  },
  {
   "cell_type": "markdown",
   "id": "62cee494-888a-47b2-9cfe-afbc15e71d42",
   "metadata": {},
   "source": [
    "6. Create a base class called \"Vehicle\" with attributes like \"make\", \"model\", and \"year\".\n",
    "Then, create a derived class called \"Car\" that inherits from \"Vehicle\" and adds an\n",
    "attribute called \"fuel_type\". Implement appropriate methods in both classes"
   ]
  },
  {
   "cell_type": "code",
   "execution_count": null,
   "id": "1cd32076-425b-409c-94e4-a07bdab9a9cd",
   "metadata": {},
   "outputs": [],
   "source": [
    "#vehicle and car classes\n",
    "class Vehicle:\n",
    "    def __init__(self, make, model, year):\n",
    "        self.make = make\n",
    "        self.model = model\n",
    "        self.year = year\n",
    "\n",
    "    def display_info(self):\n",
    "        print(f\"Vehicle: {self.year} {self.make} {self.model}\")\n",
    "\n",
    "class Car(Vehicle):\n",
    "    def __init__(self, make, model, year, fuel_type):\n",
    "        super().__init__(make, model, year)\n",
    "        self.fuel_type = fuel_type\n",
    "\n",
    "    def display_info(self):\n",
    "        super().display_info()\n",
    "        print(f\"Fuel Type: {self.fuel_type}\")"
   ]
  },
  {
   "cell_type": "markdown",
   "id": "1007974a-7c98-43f6-830f-eb6d981b6b76",
   "metadata": {},
   "source": [
    "7. Create a base class called \"Employee\" with attributes like \"name\" and \"salary.\"\n",
    "Derive two classes, \"Manager\" and \"Developer,\" from \"Employee.\" Add an additional\n",
    "attribute called \"department\" for the \"Manager\" class and \"programming_language\"\n",
    "for the \"Developer\" class."
   ]
  },
  {
   "cell_type": "code",
   "execution_count": null,
   "id": "0a6ec334-bef5-401b-97ee-dca0ce207c78",
   "metadata": {},
   "outputs": [],
   "source": [
    "#. Shape, Rectangle, and Circle Classes\n",
    "class Shape:\n",
    "    def __init__(self, colour, border_width):\n",
    "        self.colour = colour\n",
    "        self.border_width = border_width\n",
    "\n",
    "    def display_info(self):\n",
    "        print(f\"Colour: {self.colour}, Border Width: {self.border_width}\")\n",
    "\n",
    "class Rectangle(Shape):\n",
    "    def __init__(self, colour, border_width, length, width):\n",
    "        super().__init__(colour, border_width)\n",
    "        self.length = length\n",
    "        self.width = width\n",
    "\n",
    "    def display_info(self):\n",
    "        super().display_info()\n",
    "        print(f\"Length: {self.length}, Width: {self.width}\")\n",
    "\n",
    "class Circle(Shape):\n",
    "    def __init__(self, colour, border_width, radius):\n",
    "        super().__init__(colour, border_width)\n",
    "        self.radius = radius\n",
    "\n",
    "    def display_info(self):\n",
    "        super().display_info()\n",
    "        print(f\"Radius: {self.radius}\")"
   ]
  },
  {
   "cell_type": "markdown",
   "id": "b8163e52-7b41-49cd-b7d7-1a8e40bd9ae8",
   "metadata": {},
   "source": [
    "9. Create a base class called \"Device\" with attributes like \"brand\" and \"model.\" Derive\n",
    "two classes, \"Phone\" and \"Tablet,\" from \"Device.\" Add specific attributes like\n",
    "\"screen_size\" for the \"Phone\" class and \"battery_capacity\" for the \"Tablet\" class."
   ]
  },
  {
   "cell_type": "code",
   "execution_count": null,
   "id": "5c7e00e2-29d4-4e5f-995f-2332d4e5ff0f",
   "metadata": {},
   "outputs": [],
   "source": [
    "#. Device, Phone, and Tablet Classes\n",
    "class Device:\n",
    "    def __init__(self, brand, model):\n",
    "        self.brand = brand\n",
    "        self.model = model\n",
    "\n",
    "    def display_info(self):\n",
    "        print(f\"Brand: {self.brand}, Model: {self.model}\")\n",
    "\n",
    "class Phone(Device):\n",
    "    def __init__(self, brand, model, screen_size):\n",
    "        super().__init__(brand, model)\n",
    "        self.screen_size = screen_size\n",
    "\n",
    "    def display_info(self):\n",
    "        super().display_info()\n",
    "        print(f\"Screen Size: {self.screen_size}\")\n",
    "\n",
    "class Tablet(Device):\n",
    "    def __init__(self, brand, model, battery_capacity):\n",
    "        super().__init__(brand, model)\n",
    "        self.battery_capacity = battery_capacity\n",
    "\n",
    "    def display_info(self):\n",
    "        super().display_info()\n",
    "        print(f\"Battery Capacity: {self.battery_capacity}\")"
   ]
  },
  {
   "cell_type": "markdown",
   "id": "3b1ab484-68c5-42be-a4e4-a9f65ffdbede",
   "metadata": {},
   "source": [
    "10. Create a base class called \"BankAccount\" with attributes like \"account_number\" and\n",
    "\"balance.\" Derive two classes, \"SavingsAccount\" and \"CheckingAccount,\" from\n",
    "\"BankAccount.\" Add specific methods like \"calculate_interest\" for the\n",
    "\"SavingsAccount\" class and \"deduct_fees\" for the \"CheckingAccount\" class."
   ]
  },
  {
   "cell_type": "code",
   "execution_count": null,
   "id": "1b9487f2-ac5e-4695-9172-6a02d7ee0428",
   "metadata": {},
   "outputs": [],
   "source": [
    "# BankAccount, SavingsAccount, and CheckingAccount Classes\n",
    "class BankAccount:\n",
    "    def __init__(self, account_number, balance):\n",
    "        self.account_number = account_number\n",
    "        self.balance = balance\n",
    "\n",
    "    def display_info(self):\n",
    "        print(f\"Account Number: {self.account_number}, Balance: ${self.balance}\")\n",
    "\n",
    "class SavingsAccount(BankAccount):\n",
    "    def __init__(self, account_number, balance, interest_rate):\n",
    "        super().__init__(account_number, balance)\n",
    "        self.interest_rate = interest_rate\n",
    "\n",
    "    def calculate_interest(self):\n",
    "        return self.balance * (self.interest_rate / 100)\n",
    "\n",
    "class CheckingAccount(BankAccount):\n",
    "    def __init__(self, account_number, balance, fees):\n",
    "        super().__init__(account_number, balance)\n",
    "        self.fees = fees\n",
    "\n",
    "    def deduct_fees(self):\n",
    "        self.balance -= self.fees"
   ]
  }
 ],
 "metadata": {
  "kernelspec": {
   "display_name": "Python 3 (ipykernel)",
   "language": "python",
   "name": "python3"
  },
  "language_info": {
   "codemirror_mode": {
    "name": "ipython",
    "version": 3
   },
   "file_extension": ".py",
   "mimetype": "text/x-python",
   "name": "python",
   "nbconvert_exporter": "python",
   "pygments_lexer": "ipython3",
   "version": "3.12.4"
  }
 },
 "nbformat": 4,
 "nbformat_minor": 5
}
