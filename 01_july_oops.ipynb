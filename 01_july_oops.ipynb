{
 "cells": [
  {
   "cell_type": "markdown",
   "id": "27642213-711b-4d78-8143-9578b6fa19d5",
   "metadata": {},
   "source": [
    "1.What is the primary goal of Object-Oriented Programming (OOP)?\n",
    "\n",
    "The primary goal of OOP is to encapsulate data and behavior into objects, promoting code reusability, modularity, and easier maintenance. It allows for the modeling of real-world entities, enabling better organization and structure in software design.\n"
   ]
  },
  {
   "cell_type": "markdown",
   "id": "a0a13d48-12f7-47d0-9144-a3cd26473880",
   "metadata": {},
   "source": [
    "2.What is an object in Python?\n",
    "\n",
    "An object in Python is an instance of a class. It can hold data (attributes) and functions (methods) that operate on that data. Objects represent real-world entities and encapsulate state and behavior."
   ]
  },
  {
   "cell_type": "markdown",
   "id": "3fa2c96e-c5c4-4aa1-81b8-956a81cf183a",
   "metadata": {},
   "source": [
    "3.What is a class in Python?\n",
    "\n",
    "A class in Python is a blueprint for creating objects. It defines a set of attributes and methods that the created objects (instances) will have. Classes facilitate the encapsulation of data and the functions that manipulate that data."
   ]
  },
  {
   "cell_type": "markdown",
   "id": "60d6df06-82c4-48a9-959f-8d1e44e384bb",
   "metadata": {},
   "source": [
    "4.What are attributes and methods in a class?\n",
    "\n",
    "Attributes: Variables that hold data associated with a class or instance. They define the state or properties of an object.\n",
    "Methods: Functions defined within a class that operate on instances of that class. They define the behavior of the objects."
   ]
  },
  {
   "cell_type": "markdown",
   "id": "06dc1cd4-9758-4b1b-ad3e-9e8c9a985447",
   "metadata": {},
   "source": [
    "5.What is the difference between class variables and instance variables in Python?\n",
    "\n",
    "Class Variables: Shared among all instances of a class. They are defined within the class but outside any methods.\n",
    "Instance Variables: Unique to each instance of a class. They are typically defined within the __init__ method and can have different values for each object."
   ]
  },
  {
   "cell_type": "markdown",
   "id": "4a22d56b-f766-408e-88bf-8961792ad2ff",
   "metadata": {},
   "source": [
    "6.What is the purpose of the self parameter in Python class methods?\n",
    "\n",
    "The self parameter refers to the instance of the class itself. It is used to access instance variables and methods from within the class. By convention, it must be the first parameter of instance methods."
   ]
  },
  {
   "cell_type": "markdown",
   "id": "edc121e3-d13f-413f-be83-311ca3e83111",
   "metadata": {},
   "source": [
    "7.For a library management system, you have to design the \"Book\" class with OOP\n",
    "principles in mind. The “Book” class will have following attributes:\n",
    "a. title: Represents the title of the book.\n",
    "b. author: Represents the author(s) of the book.\n",
    "c. isbn: Represents the ISBN (International Standard Book Number) of the book.\n",
    "d. publication_year: Represents the year of publication of the book.\n",
    "e. available_copies: Represents the number of copies available for checkout.\n",
    "The class will also include the following methods:\n",
    "a. check_out(self): Decrements the available copies by one if there are copies\n",
    "available for checkout.\n",
    "b. return_book(self): Increments the available copies by one when a book is\n",
    "returned.\n",
    "c. display_book_info(self): Displays the information about the book, including its\n",
    "attributes and the number of available copies."
   ]
  },
  {
   "cell_type": "code",
   "execution_count": 6,
   "id": "3fe373f3-1b81-45bd-bc54-c856cc7b759d",
   "metadata": {},
   "outputs": [],
   "source": [
    "#7. answer   book class\n",
    "#here is  a code\n",
    "class Book:\n",
    "    def __init__(self, title, author, isbn, publication_year, available_copies):\n",
    "        self.title = title\n",
    "        self.author = author\n",
    "        self.isbn = isbn\n",
    "        self.publication_year = publication_year\n",
    "        self.available_copies = available_copies\n",
    "\n",
    "    def check_out(self):\n",
    "        if self.available_copies > 0:\n",
    "            self.available_copies -= 1\n",
    "            print(f\"{self.title} checked out successfully.\")\n",
    "        else:\n",
    "            print(\"No copies available for checkout.\")\n",
    "\n",
    "    def return_book(self):\n",
    "        self.available_copies += 1\n",
    "        print(f\"{self.title} returned successfully.\")\n",
    "\n",
    "    def display_book_info(self):\n",
    "        print(f\"Title: {self.title}\\nAuthor: {self.author}\\nISBN: {self.isbn}\\n\"\n",
    "              f\"Publication Year: {self.publication_year}\\nAvailable Copies: {self.available_copies}\")\n"
   ]
  },
  {
   "cell_type": "markdown",
   "id": "c9243cb3-21b4-40a4-a1ce-687f10c41c37",
   "metadata": {},
   "source": [
    "8.For a ticket booking system, you have to design the \"Ticket\" class with OOP\n",
    "principles in mind. The “Ticket” class should have the following attributes:\n",
    "a. ticket_id: Represents the unique identifier for the ticket.\n",
    "b. event_name: Represents the name of the event.\n",
    "c. event_date: Represents the date of the event.\n",
    "d. venue: Represents the venue of the event.\n",
    "e. seat_number: Represents the seat number associated with the ticket.\n",
    "f. price: Represents the price of the ticket.\n",
    "g. is_reserved: Represents the reservation status of the ticket.\n",
    "The class also includes the following methods:\n",
    "a. reserve_ticket(self): Marks the ticket as reserved if it is not already reserved.\n",
    "b. cancel_reservation(self): Cancels the reservation of the ticket if it is already\n",
    "reserved.\n",
    "c. display_ticket_info(self): Displays the information about the ticket, including its\n",
    "attributes and reservation status"
   ]
  },
  {
   "cell_type": "code",
   "execution_count": 7,
   "id": "73e862d1-c35b-4f77-bccd-629d03e6a2a1",
   "metadata": {},
   "outputs": [],
   "source": [
    "#8.answer\n",
    "#ticket class\n",
    "class Ticket:\n",
    "    def __init__(self, ticket_id, event_name, event_date, venue, seat_number, price):\n",
    "        self.ticket_id = ticket_id\n",
    "        self.event_name = event_name\n",
    "        self.event_date = event_date\n",
    "        self.venue = venue\n",
    "        self.seat_number = seat_number\n",
    "        self.price = price\n",
    "        self.is_reserved = False\n",
    "\n",
    "    def reserve_ticket(self):\n",
    "        if not self.is_reserved:\n",
    "            self.is_reserved = True\n",
    "            print(f\"Ticket {self.ticket_id} reserved successfully.\")\n",
    "        else:\n",
    "            print(\"Ticket is already reserved.\")\n",
    "\n",
    "    def cancel_reservation(self):\n",
    "        if self.is_reserved:\n",
    "            self.is_reserved = False\n",
    "            print(f\"Reservation for ticket {self.ticket_id} canceled.\")\n",
    "        else:\n",
    "            print(\"Ticket is not reserved.\")\n",
    "\n",
    "    def display_ticket_info(self):\n",
    "        print(f\"Ticket ID: {self.ticket_id}\\nEvent: {self.event_name}\\nDate: {self.event_date}\\n\"\n",
    "              f\"Venue: {self.venue}\\nSeat: {self.seat_number}\\nPrice: ${self.price}\\n\"\n",
    "              f\"Reserved: {'Yes' if self.is_reserved else 'No'}\")\n"
   ]
  },
  {
   "cell_type": "markdown",
   "id": "92235cca-6ebd-4525-8c42-9b29663e5dde",
   "metadata": {},
   "source": [
    "9.You are creating a shopping cart for an e-commerce website. Using OOP to model\n",
    "the \"ShoppingCart\" functionality the class should contain following attributes and\n",
    "methods:\n",
    "a. items: Represents the list of items in the shopping cart.\n",
    "The class also includes the following methods:a. add_item(self, item): Adds an item to the shopping cart by appending it to the\n",
    "list of items.\n",
    "b. remove_item(self, item): Removes an item from the shopping cart if it exists in\n",
    "the list.\n",
    "c. view_cart(self): Displays the items currently present in the shopping cart.\n",
    "d. clear_cart(self): Clears all items from the shopping cart by reassigning an\n",
    "empty list to the items attribute."
   ]
  },
  {
   "cell_type": "code",
   "execution_count": 8,
   "id": "32d76a4d-f663-459f-9110-220d24aac511",
   "metadata": {},
   "outputs": [],
   "source": [
    "#9. answer\n",
    "#shoppingcart class\n",
    "class ShoppingCart:\n",
    "    def __init__(self):\n",
    "        self.items = []\n",
    "\n",
    "    def add_item(self, item):\n",
    "        self.items.append(item)\n",
    "        print(f\"{item} added to the cart.\")\n",
    "\n",
    "    def remove_item(self, item):\n",
    "        if item in self.items:\n",
    "            self.items.remove(item)\n",
    "            print(f\"{item} removed from the cart.\")\n",
    "        else:\n",
    "            print(f\"{item} not found in the cart.\")\n",
    "\n",
    "    def view_cart(self):\n",
    "        if self.items:\n",
    "            print(\"Items in your cart:\", \", \".join(self.items))\n",
    "        else:\n",
    "            print(\"Your cart is empty.\")\n",
    "\n",
    "    def clear_cart(self):\n",
    "        self.items = []\n",
    "        print(\"Shopping cart cleared.\")\n"
   ]
  },
  {
   "cell_type": "markdown",
   "id": "fa78ccf2-11e0-47c8-9b33-9376f5becbc6",
   "metadata": {},
   "source": [
    "10.Imagine a school management system. You have to design the \"Student\" class using\n",
    "OOP concepts.The “Student” class has the following attributes:\n",
    "a. name: Represents the name of the student.\n",
    "b. age: Represents the age of the student.\n",
    "c. grade: Represents the grade or class of the student.\n",
    "d. student_id: Represents the unique identifier for the student.\n",
    "e. attendance: Represents the attendance record of the student.\n",
    "The class should also include the following methods:\n",
    "a. update_attendance(self, date, status): Updates the attendance record of the\n",
    "student for a given date with the provided status (e.g., present or absent).\n",
    "b. get_attendance(self): Returns the attendance record of the student.\n",
    "c. get_average_attendance(self): Calculates and returns the average\n",
    "attendance percentage of the student based on their attendance record."
   ]
  },
  {
   "cell_type": "code",
   "execution_count": 9,
   "id": "fdb6e022-fab1-457b-a10e-f7785eeae26b",
   "metadata": {},
   "outputs": [],
   "source": [
    "#10 answer\n",
    "# student class\n",
    "class Student:\n",
    "    def __init__(self, name, age, grade, student_id):\n",
    "        self.name = name\n",
    "        self.age = age\n",
    "        self.grade = grade\n",
    "        self.student_id = student_id\n",
    "        self.attendance = {}\n",
    "\n",
    "    def update_attendance(self, date, status):\n",
    "        self.attendance[date] = status\n",
    "\n",
    "    def get_attendance(self):\n",
    "        return self.attendance\n",
    "\n",
    "    def get_average_attendance(self):\n",
    "        if not self.attendance:\n",
    "            return 0\n",
    "        present_days = sum(1 for status in self.attendance.values() if status == \"present\")\n",
    "        return (present_days / len(self.attendance)) * 100\n"
   ]
  }
 ],
 "metadata": {
  "kernelspec": {
   "display_name": "Python 3 (ipykernel)",
   "language": "python",
   "name": "python3"
  },
  "language_info": {
   "codemirror_mode": {
    "name": "ipython",
    "version": 3
   },
   "file_extension": ".py",
   "mimetype": "text/x-python",
   "name": "python",
   "nbconvert_exporter": "python",
   "pygments_lexer": "ipython3",
   "version": "3.12.4"
  }
 },
 "nbformat": 4,
 "nbformat_minor": 5
}
